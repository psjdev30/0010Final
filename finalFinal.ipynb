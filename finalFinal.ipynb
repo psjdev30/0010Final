{
 "cells": [
  {
   "cell_type": "code",
   "execution_count": 1,
   "metadata": {},
   "outputs": [],
   "source": [
    "# stream data\n",
    "\n",
    "import pandas as pd\n",
    "import numpy as np\n",
    "\n",
    "import ssl\n",
    "\n",
    "ssl._create_default_https_context = ssl._create_unverified_context\n",
    "\n",
    "arrestData = pd.read_csv(\"PPAD.csv\")\n",
    "\n",
    "nPopulations = pd.read_csv(\"totalPopulation.csv\", index_col = 'Id')\n",
    "\n",
    "eduA = pd.read_csv(\"eduAttainment.csv\")\n",
    "\n",
    "\n",
    "#eduA.head(10)"
   ]
  },
  {
   "cell_type": "code",
   "execution_count": 2,
   "metadata": {},
   "outputs": [],
   "source": [
    "# create dict of neighborhoods w default vals\n",
    "nc = {}\n",
    "\n",
    "for i in range(1, len(nPopulations)):\n",
    "    nValue = nPopulations.loc[i, \"Neighborhood\"]\n",
    "    if(nValue not in nc):\n",
    "        nc[nValue] = 0\n",
    "#print(nc)  "
   ]
  },
  {
   "cell_type": "code",
   "execution_count": 3,
   "metadata": {},
   "outputs": [
    {
     "name": "stderr",
     "output_type": "stream",
     "text": [
      "/ihome/crc/install/python/miniconda3-3.7/lib/python3.7/site-packages/ipykernel_launcher.py:13: FutureWarning: get_value is deprecated and will be removed in a future release. Please use .at[] or .iat[] accessors instead\n",
      "  del sys.path[0]\n"
     ]
    }
   ],
   "source": [
    "# create dict of neighborhoods : populations\n",
    "\n",
    "numOfNeighborhoods = 0\n",
    "\n",
    "for i in range(len(nPopulations)):\n",
    "    numOfNeighborhoods += 1\n",
    "\n",
    "pop = {}\n",
    "\n",
    "for i in range(1, len(nPopulations)):\n",
    "    val = nPopulations.loc[i, \"Neighborhood\"]\n",
    "    if(val in nPopulations.values):\n",
    "        pop[val] = nPopulations.get_value(nPopulations.loc[nPopulations['Neighborhood'] == val].index[0], 'Estimate; Total')\n",
    "\n",
    "#pop"
   ]
  },
  {
   "cell_type": "code",
   "execution_count": 4,
   "metadata": {},
   "outputs": [],
   "source": [
    "# create dict of neighborhoods : crimes\n",
    "\n",
    "for i in range(len(arrestData)):\n",
    "    nValue = arrestData.loc[i, \"INCIDENTNEIGHBORHOOD\"]\n",
    "    if(nValue in nc):\n",
    "        nc[nValue] += 1\n",
    "#nc   "
   ]
  },
  {
   "cell_type": "code",
   "execution_count": 5,
   "metadata": {},
   "outputs": [
    {
     "data": {
      "text/plain": [
       "{'Allegheny Center': 46137.49114103473,\n",
       " 'Allegheny West': 21865.889212827988,\n",
       " 'Allentown': 21071.149335418297,\n",
       " 'Arlington': 9071.274298056156,\n",
       " 'Arlington Heights': 36764.705882352944,\n",
       " 'Banksville': 3654.743390357698,\n",
       " 'Bedford Dwellings': 24907.33876945886,\n",
       " 'Beechview': 8492.201039861353,\n",
       " 'Beltzhoover': 18390.129259694477,\n",
       " 'Bloomfield': 6355.98108201638,\n",
       " 'Bluff': 12440.419447092469,\n",
       " 'Bon Air': 13586.95652173913,\n",
       " 'Brighton Heights': 8246.86699905673,\n",
       " 'Brookline': 5265.95744680851,\n",
       " 'California-Kirkbride': 18929.016189290163,\n",
       " 'Carrick': 12971.744714483304,\n",
       " 'Central Business District': 52487.68472906404,\n",
       " 'Central Lawrenceville': 5696.335078534032,\n",
       " 'Central Northside': 795.2973720608575,\n",
       " 'Central Oakland': 5221.573342493988,\n",
       " 'Chartiers City': 4107.142857142857,\n",
       " 'Chateau': 8733333.333333332,\n",
       " 'Crafton Heights': 7391.523713420787,\n",
       " 'Crawford-Roberts': 21123.595505617977,\n",
       " 'Duquesne Heights': 4084.06026962728,\n",
       " 'East Allegheny': 58949.880668257756,\n",
       " 'East Carnegie': 4426.229508196721,\n",
       " 'East Hills': 20286.813571178733,\n",
       " 'East Liberty': 17970.01986635362,\n",
       " 'Elliott': 14010.437575270977,\n",
       " 'Esplen': 33980.58252427185,\n",
       " 'Fairywood': 5249.788314987299,\n",
       " 'Fineview': 39055.11811023622,\n",
       " 'Friendship': 5815.217391304348,\n",
       " 'Garfield': 9984.871406959153,\n",
       " 'Glen Hazel': 9636.871508379887,\n",
       " 'Greenfield': 3628.0884265279583,\n",
       " 'Hays': 15308.641975308643,\n",
       " 'Hazelwood': 16584.449142588677,\n",
       " 'Highland Park': 4199.706314243759,\n",
       " 'Homewood North': 30732.720261050134,\n",
       " 'Homewood South': 50000.0,\n",
       " 'Homewood West': 49058.82352941177,\n",
       " 'Knoxville': 17673.325499412458,\n",
       " 'Larimer': 27544.180377818408,\n",
       " 'Lincoln Place': 2886.539011146042,\n",
       " 'Lincoln-Lemington-Belmar': 14066.599394550958,\n",
       " 'Lower Lawrenceville': 5559.875583203733,\n",
       " 'Manchester': 14197.53086419753,\n",
       " 'Marshall-Shadeland': 13769.168684422923,\n",
       " 'Middle Hill': 32329.545454545456,\n",
       " 'Morningside': 3402.8203556100552,\n",
       " 'Mount Oliver Borough': 353.045013239188,\n",
       " 'Mount Washington': 9584.810705707423,\n",
       " 'Mount Oliver': 14882.94314381271,\n",
       " 'New Homestead': 2261.0483042137716,\n",
       " 'North Oakland': 2322.4328264944807,\n",
       " 'North Shore': 229268.2926829268,\n",
       " 'Northview Heights': 24530.74433656958,\n",
       " 'Oakwood': 4158.790170132325,\n",
       " 'Overbrook': 4508.419337316675,\n",
       " 'Perry North': 10660.30230708035,\n",
       " 'Perry South': 18746.32136550912,\n",
       " 'Point Breeze': 3398.596231991134,\n",
       " 'Point Breeze North': 7794.457274826789,\n",
       " 'Polish Hill': 7362.885048835462,\n",
       " 'Regent Square': 1839.3030009680542,\n",
       " 'Ridgemont': 4140.127388535032,\n",
       " 'Shadyside': 3981.7136115617163,\n",
       " 'Sheraden': 11611.541168191416,\n",
       " 'South Oakland': 5922.629236562821,\n",
       " 'South Shore': 1316666.6666666665,\n",
       " 'South Side Flats': 31039.41513032422,\n",
       " 'South Side Slopes': 9993.454069386864,\n",
       " 'Spring Garden': 18095.238095238095,\n",
       " 'Spring Hill-City View': 17671.00977198697,\n",
       " 'Squirrel Hill North': 1332.0395201129147,\n",
       " 'Squirrel Hill South': 2736.566512903628,\n",
       " 'St. Clair': 11111.111111111111,\n",
       " 'Stanton Heights': 2415.458937198068,\n",
       " 'Strip District': 36010.70950468541,\n",
       " 'Summer Hill': 3778.3375314861464,\n",
       " 'Swisshelm Park': 1486.988847583643,\n",
       " 'Terrace Village': 6108.202443280978,\n",
       " 'Troy Hill': 11300.919842312747,\n",
       " 'Upper Hill': 11624.20382165605,\n",
       " 'Upper Lawrenceville': 4103.122730573711,\n",
       " 'West End': 65106.382978723406,\n",
       " 'West Oakland': 10366.919044845661,\n",
       " 'Westwood': 3364.433135425502}"
      ]
     },
     "execution_count": 5,
     "metadata": {},
     "output_type": "execute_result"
    }
   ],
   "source": [
    "# create dict of neighborhoods : arrest rates (per 100k)\n",
    "\n",
    "for key, value in nc.items():\n",
    "    nc[key] = (value / pop[key]) * 100000\n",
    "#nc"
   ]
  },
  {
   "cell_type": "code",
   "execution_count": null,
   "metadata": {},
   "outputs": [],
   "source": []
  }
 ],
 "metadata": {
  "kernelspec": {
   "display_name": "Python 3.7",
   "language": "python",
   "name": "python3"
  },
  "language_info": {
   "codemirror_mode": {
    "name": "ipython",
    "version": 3
   },
   "file_extension": ".py",
   "mimetype": "text/x-python",
   "name": "python",
   "nbconvert_exporter": "python",
   "pygments_lexer": "ipython3",
   "version": "3.7.0"
  }
 },
 "nbformat": 4,
 "nbformat_minor": 4
}
