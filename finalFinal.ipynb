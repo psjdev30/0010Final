{
 "cells": [
  {
   "cell_type": "code",
   "execution_count": 1,
   "metadata": {},
   "outputs": [],
   "source": [
    "# stream data\n",
    "\n",
    "import pandas as pd\n",
    "import numpy as np\n",
    "\n",
    "import ssl\n",
    "\n",
    "ssl._create_default_https_context = ssl._create_unverified_context\n",
    "\n",
    "arrestData = pd.read_csv(\"PPAD.csv\")\n",
    "\n",
    "nPopulations = pd.read_csv(\"totalPopulation.csv\", index_col = 'Id')\n",
    "\n",
    "eduAttainment = pd.read_csv(\"https://data.wprdc.org/dataset/c6265ffb-c86e-4a2c-870b-1aaa0772c449/resource/755c09dc-be92-4787-84a6-080d84345979/download/educational-attainment-for-the-population-25-years-and-over.csv\")\n",
    "\n",
    "#arrestData.head(10)"
   ]
  },
  {
   "cell_type": "code",
   "execution_count": 3,
   "metadata": {},
   "outputs": [],
   "source": [
    "# create dict of neighborhoods w default vals\n",
    "nc = {}\n",
    "\n",
    "for i in range(1, len(nPopulations)):\n",
    "    nValue = nPopulations.loc[i, \"Neighborhood\"]\n",
    "    if(nValue not in nc):\n",
    "        nc[nValue] = 0\n",
    "#print(nc)  "
   ]
  },
  {
   "cell_type": "code",
   "execution_count": null,
   "metadata": {},
   "outputs": [],
   "source": [
    "# create dict of neighborhoods : populations\n",
    "\n",
    "numOfNeighborhoods = 0\n",
    "\n",
    "for i in range(len(nPopulations)):\n",
    "    numOfNeighborhoods += 1\n",
    "\n",
    "pop = {}\n",
    "\n",
    "for i in range(numOfNeighborhoods):\n",
    "    val = arrestData.loc[i, \"INCIDENTNEIGHBORHOOD\"]\n",
    "    if(val in nPopulations.values):\n",
    "        pop[val] = nPopulations.get_value(nPopulations.loc[nPopulations['Neighborhood'] == val].index[0], 'Estimate; Total')\n",
    "    else:\n",
    "        continue\n",
    "#pop"
   ]
  }
 ],
 "metadata": {
  "kernelspec": {
   "display_name": "Python 3.7",
   "language": "python",
   "name": "python3"
  },
  "language_info": {
   "codemirror_mode": {
    "name": "ipython",
    "version": 3
   },
   "file_extension": ".py",
   "mimetype": "text/x-python",
   "name": "python",
   "nbconvert_exporter": "python",
   "pygments_lexer": "ipython3",
   "version": "3.7.0"
  }
 },
 "nbformat": 4,
 "nbformat_minor": 4
}
