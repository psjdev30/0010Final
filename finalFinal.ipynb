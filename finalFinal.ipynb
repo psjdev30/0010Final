{
 "cells": [
  {
   "cell_type": "code",
   "execution_count": 1,
   "metadata": {},
   "outputs": [],
   "source": [
    "# stream data\n",
    "\n",
    "import pandas as pd\n",
    "import numpy as np\n",
    "\n",
    "import ssl\n",
    "\n",
    "ssl._create_default_https_context = ssl._create_unverified_context\n",
    "\n",
    "arrestData = pd.read_csv(\"PPAD.csv\")\n",
    "\n",
    "nPopulations = pd.read_csv(\"totalPopulation.csv\", index_col = 'Id')\n",
    "\n",
    "eduA = pd.read_csv(\"eduAttainment.csv\")\n",
    "\n",
    "\n",
    "#eduA.head(10)"
   ]
  },
  {
   "cell_type": "code",
   "execution_count": 2,
   "metadata": {},
   "outputs": [],
   "source": [
    "# create dict of neighborhoods w default vals\n",
    "nc = {}\n",
    "\n",
    "for i in range(1, len(nPopulations)):\n",
    "    nValue = nPopulations.loc[i, \"Neighborhood\"]\n",
    "    if(nValue not in nc):\n",
    "        nc[nValue] = 0\n",
    "#print(nc)  "
   ]
  },
  {
   "cell_type": "code",
   "execution_count": 3,
   "metadata": {},
   "outputs": [
    {
     "name": "stderr",
     "output_type": "stream",
     "text": [
      "/ihome/crc/install/python/miniconda3-3.7/lib/python3.7/site-packages/ipykernel_launcher.py:13: FutureWarning: get_value is deprecated and will be removed in a future release. Please use .at[] or .iat[] accessors instead\n",
      "  del sys.path[0]\n"
     ]
    }
   ],
   "source": [
    "# create dict of neighborhoods : populations\n",
    "\n",
    "numOfNeighborhoods = 0\n",
    "\n",
    "for i in range(len(nPopulations)):\n",
    "    numOfNeighborhoods += 1\n",
    "\n",
    "pop = {}\n",
    "\n",
    "for i in range(1, len(nPopulations)):\n",
    "    val = nPopulations.loc[i, \"Neighborhood\"]\n",
    "    if(val in nPopulations.values):\n",
    "        pop[val] = nPopulations.get_value(nPopulations.loc[nPopulations['Neighborhood'] == val].index[0], 'Estimate; Total')\n",
    "\n",
    "#pop"
   ]
  },
  {
   "cell_type": "code",
   "execution_count": 4,
   "metadata": {},
   "outputs": [],
   "source": [
    "# create dict of neighborhoods : crimes\n",
    "\n",
    "for i in range(len(arrestData)):\n",
    "    nValue = arrestData.loc[i, \"INCIDENTNEIGHBORHOOD\"]\n",
    "    if(nValue in nc):\n",
    "        nc[nValue] += 1\n",
    "#nc   "
   ]
  },
  {
   "cell_type": "code",
   "execution_count": 5,
   "metadata": {},
   "outputs": [],
   "source": [
    "# create dict of neighborhoods : arrest rates (per 100k)\n",
    "\n",
    "for key, value in nc.items():\n",
    "    nc[key] = (value / pop[key]) * 100000\n",
    "#nc"
   ]
  },
  {
   "cell_type": "code",
   "execution_count": 6,
   "metadata": {},
   "outputs": [],
   "source": [
    "# eliminate neighborhoods above average num of arrests\n",
    "\n",
    "ncUpdated = {}\n",
    "\n",
    "NATL_ARREST_RATE = 3152.6\n",
    "\n",
    "for key, value in nc.items():\n",
    "    if(value <= NATL_ARREST_RATE):\n",
    "        ncUpdated[key] = value\n",
    "#ncUpdated"
   ]
  },
  {
   "cell_type": "code",
   "execution_count": 14,
   "metadata": {},
   "outputs": [],
   "source": [
    "# create dict of all neighborhoods : education levels\n",
    "# sufficient education defined as completion of HS or greater\n",
    "\n",
    "allEduLevels = {}\n",
    "\n",
    "for i in range(len(eduA)):\n",
    "    totalVal = eduA.loc[i, \"Estimate; Total:\"]\n",
    "    hsGradNum = eduA.loc[i, \"Estimate; Total: - Regular high school diploma\"]\n",
    "    collegeUnderOne = eduA.loc[i, \"Estimate; Total: - Some college, less than 1 year\"]\n",
    "    collegeOnePlus = eduA.loc[i, \"Estimate; Total: - Some college, 1 or more years, no degree\"]\n",
    "    associates = eduA.loc[i, \"Estimate; Total: - Associate's degree\"]\n",
    "    bachelors = eduA.loc[i, \"Estimate; Total: - Bachelor's degree\"]\n",
    "    masters = eduA.loc[i, \"Estimate; Total: - Master's degree\"]\n",
    "    professional = eduA.loc[i, \"Estimate; Total: - Professional school degree\"]\n",
    "    doctorate = eduA.loc[i, \"Estimate; Total: - Doctorate degree\"]\n",
    "    totalEdu = hsGradNum + collegeUnderOne + collegeOnePlus + associates + bachelors + masters + professional + doctorate\n",
    "    neigh = eduA.loc[i, \"Neighborhood\"]\n",
    "    if(neigh not in allEduLevels):\n",
    "        allEduLevels[neigh] = totalEdu / totalVal\n",
    "\n",
    "#allEduLevels"
   ]
  },
  {
   "cell_type": "code",
   "execution_count": 15,
   "metadata": {},
   "outputs": [],
   "source": [
    "# create dict of select neighborhoods :  education level\n",
    "\n",
    "selectEduLevels = {}\n",
    "\n",
    "for key in ncUpdated.keys():\n",
    "    if(key not in selectEduLevels):\n",
    "        selectEduLevels[key] = allEduLevels[key]\n",
    "\n",
    "#selectEduLevels"
   ]
  },
  {
   "cell_type": "code",
   "execution_count": 16,
   "metadata": {},
   "outputs": [
    {
     "name": "stdout",
     "output_type": "stream",
     "text": [
      "The best neighborhood in Pittsburgh is: Regent Square\n"
     ]
    }
   ],
   "source": [
    "# find neighborhood with highest education rate\n",
    "\n",
    "maxVal = max(selectGradRates.values())\n",
    "\n",
    "for key, value in selectGradRates.items():\n",
    "    if(value == maxVal):\n",
    "        print(\"The best neighborhood in Pittsburgh is: \" + key)"
   ]
  }
 ],
 "metadata": {
  "kernelspec": {
   "display_name": "Python 3.7",
   "language": "python",
   "name": "python3"
  },
  "language_info": {
   "codemirror_mode": {
    "name": "ipython",
    "version": 3
   },
   "file_extension": ".py",
   "mimetype": "text/x-python",
   "name": "python",
   "nbconvert_exporter": "python",
   "pygments_lexer": "ipython3",
   "version": "3.7.0"
  }
 },
 "nbformat": 4,
 "nbformat_minor": 4
}
