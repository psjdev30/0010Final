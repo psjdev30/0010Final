{
 "cells": [
  {
   "cell_type": "code",
   "execution_count": 1,
   "metadata": {},
   "outputs": [],
   "source": [
    "# stream data\n",
    "\n",
    "import pandas as pd\n",
    "import numpy as np\n",
    "\n",
    "import ssl\n",
    "\n",
    "ssl._create_default_https_context = ssl._create_unverified_context\n",
    "\n",
    "arrestData = pd.read_csv(\"PPAD.csv\")\n",
    "\n",
    "nPopulations = pd.read_csv(\"totalPopulation.csv\", index_col = 'Id')\n",
    "\n",
    "eduA = pd.read_csv(\"eduAttainment.csv\")\n",
    "\n",
    "\n",
    "#eduA.head(10)"
   ]
  },
  {
   "cell_type": "code",
   "execution_count": 2,
   "metadata": {},
   "outputs": [],
   "source": [
    "# create dict of neighborhoods w default vals\n",
    "nc = {}\n",
    "\n",
    "for i in range(1, len(nPopulations)):\n",
    "    nValue = nPopulations.loc[i, \"Neighborhood\"]\n",
    "    if(nValue not in nc):\n",
    "        nc[nValue] = 0\n",
    "#print(nc)  "
   ]
  },
  {
   "cell_type": "code",
   "execution_count": 3,
   "metadata": {},
   "outputs": [
    {
     "name": "stderr",
     "output_type": "stream",
     "text": [
      "/ihome/crc/install/python/miniconda3-3.7/lib/python3.7/site-packages/ipykernel_launcher.py:13: FutureWarning: get_value is deprecated and will be removed in a future release. Please use .at[] or .iat[] accessors instead\n",
      "  del sys.path[0]\n"
     ]
    }
   ],
   "source": [
    "# create dict of neighborhoods : populations\n",
    "\n",
    "numOfNeighborhoods = 0\n",
    "\n",
    "for i in range(len(nPopulations)):\n",
    "    numOfNeighborhoods += 1\n",
    "\n",
    "pop = {}\n",
    "\n",
    "for i in range(1, len(nPopulations)):\n",
    "    val = nPopulations.loc[i, \"Neighborhood\"]\n",
    "    if(val in nPopulations.values):\n",
    "        pop[val] = nPopulations.get_value(nPopulations.loc[nPopulations['Neighborhood'] == val].index[0], 'Estimate; Total')\n",
    "\n",
    "#pop"
   ]
  },
  {
   "cell_type": "code",
   "execution_count": 4,
   "metadata": {},
   "outputs": [],
   "source": [
    "# create dict of neighborhoods : crimes\n",
    "\n",
    "for i in range(len(arrestData)):\n",
    "    nValue = arrestData.loc[i, \"INCIDENTNEIGHBORHOOD\"]\n",
    "    if(nValue in nc):\n",
    "        nc[nValue] += 1\n",
    "#nc   "
   ]
  },
  {
   "cell_type": "code",
   "execution_count": 5,
   "metadata": {},
   "outputs": [],
   "source": [
    "# create dict of neighborhoods : arrest rates (per 100k)\n",
    "\n",
    "for key, value in nc.items():\n",
    "    nc[key] = (value / pop[key]) * 100000\n",
    "#nc"
   ]
  },
  {
   "cell_type": "code",
   "execution_count": 6,
   "metadata": {},
   "outputs": [],
   "source": [
    "# eliminate neighborhoods above average num of arrests\n",
    "\n",
    "ncUpdated = {}\n",
    "\n",
    "NATL_ARREST_RATE = 3152.6\n",
    "\n",
    "for key, value in nc.items():\n",
    "    if(value <= NATL_ARREST_RATE):\n",
    "        ncUpdated[key] = value\n",
    "#ncUpdated"
   ]
  },
  {
   "cell_type": "code",
   "execution_count": 12,
   "metadata": {},
   "outputs": [
    {
     "data": {
      "text/plain": [
       "{'Allegheny Center': 0.9111776447105788,\n",
       " 'Allegheny West': 0.89419795221843,\n",
       " 'Allentown': 0.771718452758402,\n",
       " 'Arlington': 0.7955246913580247,\n",
       " 'Arlington Heights': 0.4793388429752066,\n",
       " 'Banksville': 0.9001233045622689,\n",
       " 'Bedford Dwellings': 0.6851351351351351,\n",
       " 'Beechview': 0.8426756985605419,\n",
       " 'Beltzhoover': 0.7536231884057971,\n",
       " 'Bloomfield': 0.9233212341197822,\n",
       " 'Bluff': 0.5867158671586716,\n",
       " 'Bon Air': 0.8640132669983416,\n",
       " 'Brighton Heights': 0.8768573551263001,\n",
       " 'Brookline': 0.8552031509121062,\n",
       " 'California-Kirkbride': 0.7715430861723447,\n",
       " 'Carrick': 0.7929671527872427,\n",
       " 'Central Business District': 0.9359861591695502,\n",
       " 'Central Lawrenceville': 0.8611812216052499,\n",
       " 'Central Northside': 0.8506111362607515,\n",
       " 'Central Oakland': 0.832810867293626,\n",
       " 'Chartiers City': 0.7923250564334086,\n",
       " 'Chateau': 1.0,\n",
       " 'Crafton Heights': 0.8654587509637626,\n",
       " 'Crawford-Roberts': 0.7656957928802589,\n",
       " 'Duquesne Heights': 0.8908554572271387,\n",
       " 'East Allegheny': 0.7853577371048253,\n",
       " 'East Carnegie': 0.84375,\n",
       " 'East Hills': 0.8002125398512221,\n",
       " 'East Liberty': 0.8254089979550102,\n",
       " 'Elliott': 0.8183619550858653,\n",
       " 'Esplen': 0.8095238095238095,\n",
       " 'Fairywood': 0.857487922705314,\n",
       " 'Fineview': 0.8205980066445183,\n",
       " 'Friendship': 0.9629130141604855,\n",
       " 'Garfield': 0.7880202255931544,\n",
       " 'Glen Hazel': 0.7019607843137254,\n",
       " 'Greenfield': 0.9018586069133229,\n",
       " 'Hays': 0.8300653594771242,\n",
       " 'Hazelwood': 0.7981345769487008,\n",
       " 'Highland Park': 0.9598053733869262,\n",
       " 'Homewood North': 0.8014582164890633,\n",
       " 'Homewood South': 0.7505270555165144,\n",
       " 'Homewood West': 0.6896551724137931,\n",
       " 'Knoxville': 0.7723970944309927,\n",
       " 'Larimer': 0.7632763276327633,\n",
       " 'Lincoln Place': 0.8523464326592903,\n",
       " 'Lincoln-Lemington-Belmar': 0.8354009077155824,\n",
       " 'Lower Lawrenceville': 0.8884297520661157,\n",
       " 'Manchester': 0.9056728232189973,\n",
       " 'Marshall-Shadeland': 0.6044444444444445,\n",
       " 'Middle Hill': 0.694300518134715,\n",
       " 'Morningside': 0.8637077769049489,\n",
       " 'Mount Oliver Borough': 0.7085137085137085,\n",
       " 'Mount Washington': 0.8989214175654854,\n",
       " 'Mt. Oliver': 0.8344370860927153,\n",
       " 'New Homestead': 0.8847795163584637,\n",
       " 'North Oakland': 0.9298245614035088,\n",
       " 'North Shore': 1.0,\n",
       " 'Northview Heights': 0.5338709677419354,\n",
       " 'Oakwood': 0.8814553990610329,\n",
       " 'Overbrook': 0.8635077793493635,\n",
       " 'Perry North': 0.8834882058613295,\n",
       " 'Perry South': 0.7812911725955204,\n",
       " 'Point Breeze': 0.9686665047364585,\n",
       " 'Point Breeze North': 0.9607167470709855,\n",
       " 'Polish Hill': 0.8645928636779506,\n",
       " 'Regent Square': 0.9874686716791979,\n",
       " 'Ridgemont': 0.8518518518518519,\n",
       " 'Shadyside': 0.9708189519924694,\n",
       " 'Sheraden': 0.8325905292479109,\n",
       " 'South Oakland': 0.8579831932773109,\n",
       " 'South Shore': 1.0,\n",
       " 'South Side Flats': 0.9307228915662651,\n",
       " 'South Side Slopes': 0.861028192371476,\n",
       " 'Spring Garden': 0.635670731707317,\n",
       " 'Spring Hill-City View': 0.8218390804597702,\n",
       " 'Squirrel Hill North': 0.9797030633339597,\n",
       " 'Squirrel Hill South': 0.9524178950090509,\n",
       " 'St. Clair': 0.9019607843137255,\n",
       " 'Stanton Heights': 0.90607424071991,\n",
       " 'Strip District': 0.9926900584795322,\n",
       " 'Summer Hill': 0.8756875687568757,\n",
       " 'Swisshelm Park': 0.873405299313052,\n",
       " 'Terrace Village': 0.7378277153558053,\n",
       " 'Troy Hill': 0.8854748603351955,\n",
       " 'Upper Hill': 0.8169014084507042,\n",
       " 'Upper Lawrenceville': 0.8294029101856498,\n",
       " 'West End': 1.0,\n",
       " 'West Oakland': 0.8235294117647058,\n",
       " 'Westwood': 0.8397006695549429,\n",
       " 'Windgap': 0.8583489681050657}"
      ]
     },
     "execution_count": 12,
     "metadata": {},
     "output_type": "execute_result"
    }
   ],
   "source": [
    "# create dict of all neighborhoods : education levels\n",
    "# sufficient education defined as completion of HS or greater\n",
    "\n",
    "allEduLevels = {}\n",
    "\n",
    "for i in range(len(eduA)):\n",
    "    totalVal = eduA.loc[i, \"Estimate; Total:\"]\n",
    "    hsGradNum = eduA.loc[i, \"Estimate; Total: - Regular high school diploma\"]\n",
    "    collegeUnderOne = eduA.loc[i, \"Estimate; Total: - Some college, less than 1 year\"]\n",
    "    collegeOnePlus = eduA.loc[i, \"Estimate; Total: - Some college, 1 or more years, no degree\"]\n",
    "    associates = eduA.loc[i, \"Estimate; Total: - Associate's degree\"]\n",
    "    bachelors = eduA.loc[i, \"Estimate; Total: - Bachelor's degree\"]\n",
    "    masters = eduA.loc[i, \"Estimate; Total: - Master's degree\"]\n",
    "    professional = eduA.loc[i, \"Estimate; Total: - Professional school degree\"]\n",
    "    doctorate = eduA.loc[i, \"Estimate; Total: - Doctorate degree\"]\n",
    "    totalEdu = hsGradNum + collegeUnderOne + collegeOnePlus + associates + bachelors + masters + professional + doctorate\n",
    "    neigh = eduA.loc[i, \"Neighborhood\"]\n",
    "    if(neigh not in allEduLevels):\n",
    "        allEduLevels[neigh] = totalEdu / totalVal\n",
    "\n",
    "allEduLevels"
   ]
  },
  {
   "cell_type": "code",
   "execution_count": 11,
   "metadata": {},
   "outputs": [],
   "source": [
    "# create dict of select neighborhoods :  education level\n",
    "\n",
    "selectEduLevels = {}\n",
    "\n",
    "for key in ncUpdated.keys():\n",
    "    if(key not in selectEduLevels):\n",
    "        selectEduLevels[key] = allEduLevels[key]\n",
    "\n",
    "selectEduLevels"
   ]
  },
  {
   "cell_type": "code",
   "execution_count": null,
   "metadata": {},
   "outputs": [],
   "source": []
  }
 ],
 "metadata": {
  "kernelspec": {
   "display_name": "Python 3.7",
   "language": "python",
   "name": "python3"
  },
  "language_info": {
   "codemirror_mode": {
    "name": "ipython",
    "version": 3
   },
   "file_extension": ".py",
   "mimetype": "text/x-python",
   "name": "python",
   "nbconvert_exporter": "python",
   "pygments_lexer": "ipython3",
   "version": "3.7.0"
  }
 },
 "nbformat": 4,
 "nbformat_minor": 4
}
