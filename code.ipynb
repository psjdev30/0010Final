{
 "cells": [
  {
   "cell_type": "code",
   "execution_count": 1,
   "metadata": {},
   "outputs": [],
   "source": [
    "# stream data\n",
    "\n",
    "import pandas as pd\n",
    "import numpy as np\n",
    "%matplotlib inline\n",
    "import matplotlib.pyplot as plt\n",
    "\n",
    "import ssl\n",
    "\n",
    "ssl._create_default_https_context = ssl._create_unverified_context\n",
    "\n",
    "arrestData = pd.read_csv(\"PPAD.csv\")\n",
    "\n",
    "nPopulations = pd.read_csv(\"totalPopulation.csv\", index_col = 'Id')\n",
    "\n",
    "eduA = pd.read_csv(\"eduAttainment.csv\")\n",
    "\n",
    "\n",
    "#eduA.head(10)"
   ]
  },
  {
   "cell_type": "code",
   "execution_count": 2,
   "metadata": {},
   "outputs": [],
   "source": [
    "# create dict of neighborhoods w default vals\n",
    "nc = {}\n",
    "\n",
    "for i in range(1, len(nPopulations)):\n",
    "    nValue = nPopulations.loc[i, \"Neighborhood\"]\n",
    "    if(nValue not in nc):\n",
    "        nc[nValue] = 0\n",
    "#print(nc)  "
   ]
  },
  {
   "cell_type": "code",
   "execution_count": 3,
   "metadata": {},
   "outputs": [
    {
     "name": "stderr",
     "output_type": "stream",
     "text": [
      "/ihome/crc/install/python/miniconda3-3.7/lib/python3.7/site-packages/ipykernel_launcher.py:13: FutureWarning: get_value is deprecated and will be removed in a future release. Please use .at[] or .iat[] accessors instead\n",
      "  del sys.path[0]\n"
     ]
    }
   ],
   "source": [
    "# create dict of neighborhoods : populations\n",
    "\n",
    "numOfNeighborhoods = 0\n",
    "\n",
    "for i in range(len(nPopulations)):\n",
    "    numOfNeighborhoods += 1\n",
    "\n",
    "pop = {}\n",
    "\n",
    "for i in range(1, len(nPopulations)):\n",
    "    val = nPopulations.loc[i, \"Neighborhood\"]\n",
    "    if(val in nPopulations.values):\n",
    "        pop[val] = nPopulations.get_value(nPopulations.loc[nPopulations['Neighborhood'] == val].index[0], 'Estimate; Total')\n",
    "\n",
    "#pop"
   ]
  },
  {
   "cell_type": "code",
   "execution_count": 4,
   "metadata": {},
   "outputs": [],
   "source": [
    "# create dict of neighborhoods : crimes\n",
    "\n",
    "for i in range(len(arrestData)):\n",
    "    nValue = arrestData.loc[i, \"INCIDENTNEIGHBORHOOD\"]\n",
    "    if(nValue in nc):\n",
    "        nc[nValue] += 1\n",
    "#nc   "
   ]
  },
  {
   "cell_type": "code",
   "execution_count": 5,
   "metadata": {},
   "outputs": [],
   "source": [
    "# create dict of neighborhoods : arrest rates (per 100k)\n",
    "\n",
    "for key, value in nc.items():\n",
    "    nc[key] = (value / pop[key]) * 100000\n",
    "#nc"
   ]
  },
  {
   "cell_type": "code",
   "execution_count": 6,
   "metadata": {},
   "outputs": [
    {
     "data": {
      "text/plain": [
       "{'Central Northside': 795.2973720608575,\n",
       " 'Lincoln Place': 2886.539011146042,\n",
       " 'Mount Oliver Borough': 353.045013239188,\n",
       " 'New Homestead': 2261.0483042137716,\n",
       " 'North Oakland': 2322.4328264944807,\n",
       " 'Regent Square': 1839.3030009680542,\n",
       " 'Squirrel Hill North': 1332.0395201129147,\n",
       " 'Squirrel Hill South': 2736.566512903628,\n",
       " 'Stanton Heights': 2415.458937198068,\n",
       " 'Swisshelm Park': 1486.988847583643}"
      ]
     },
     "execution_count": 6,
     "metadata": {},
     "output_type": "execute_result"
    }
   ],
   "source": [
    "# eliminate neighborhoods above natl arrest rate\n",
    "\n",
    "ncUpdated = {}\n",
    "\n",
    "NATL_ARREST_RATE = 3152.6\n",
    "\n",
    "for key, value in nc.items():\n",
    "    if(value <= NATL_ARREST_RATE):\n",
    "        ncUpdated[key] = value\n",
    "ncUpdated"
   ]
  },
  {
   "cell_type": "code",
   "execution_count": 7,
   "metadata": {},
   "outputs": [
    {
     "data": {
      "text/plain": [
       "[0.9920470262793915,\n",
       " 0.9711346098885396,\n",
       " 0.9964695498676082,\n",
       " 0.9773895169578622,\n",
       " 0.9767756717350552,\n",
       " 0.9816069699903195,\n",
       " 0.9866796047988708,\n",
       " 0.9726343348709636,\n",
       " 0.9758454106280193,\n",
       " 0.9851301115241635]"
      ]
     },
     "execution_count": 7,
     "metadata": {},
     "output_type": "execute_result"
    }
   ],
   "source": [
    "# \n",
    "arrestRatePercents = []\n",
    "for value in ncUpdated.values():\n",
    "    arrestRatePercents.append(((100000 - value) / 100000))\n",
    "arrestRatePercents"
   ]
  },
  {
   "cell_type": "code",
   "execution_count": 8,
   "metadata": {},
   "outputs": [
    {
     "data": {
      "text/plain": [
       "<matplotlib.axes._subplots.AxesSubplot at 0x7f33defe08d0>"
      ]
     },
     "execution_count": 8,
     "metadata": {},
     "output_type": "execute_result"
    },
    {
     "data": {
      "image/png": "[encoded data removed]",
      "text/plain": [
       "<Figure size 432x288 with 1 Axes>"
      ]
     },
     "metadata": {
      "needs_background": "light"
     },
     "output_type": "display_data"
    }
   ],
   "source": [
    "# graph of neighborhoods below natl arrest rate \n",
    "\n",
    "#nBelowNAR = pd.DataFrame.from_dict(ncUpdated, orient = 'index', columns = ['Average Arrest Rate'])\n",
    "\n",
    "#nBelowNAR.plot(kind = 'bar', rot = 90)"
   ]
  },
  {
   "cell_type": "code",
   "execution_count": 9,
   "metadata": {},
   "outputs": [],
   "source": [
    "# create dict of all neighborhoods : education levels\n",
    "# sufficient education defined as completion of HS or greater\n",
    "\n",
    "allEduLevels = {}\n",
    "\n",
    "for i in range(len(eduA)):\n",
    "    totalVal = eduA.loc[i, \"Estimate; Total:\"]\n",
    "    hsGradNum = eduA.loc[i, \"Estimate; Total: - Regular high school diploma\"]\n",
    "    collegeUnderOne = eduA.loc[i, \"Estimate; Total: - Some college, less than 1 year\"]\n",
    "    collegeOnePlus = eduA.loc[i, \"Estimate; Total: - Some college, 1 or more years, no degree\"]\n",
    "    associates = eduA.loc[i, \"Estimate; Total: - Associate's degree\"]\n",
    "    bachelors = eduA.loc[i, \"Estimate; Total: - Bachelor's degree\"]\n",
    "    masters = eduA.loc[i, \"Estimate; Total: - Master's degree\"]\n",
    "    professional = eduA.loc[i, \"Estimate; Total: - Professional school degree\"]\n",
    "    doctorate = eduA.loc[i, \"Estimate; Total: - Doctorate degree\"]\n",
    "    totalEdu = hsGradNum + collegeUnderOne + collegeOnePlus + associates + bachelors + masters + professional + doctorate\n",
    "    neigh = eduA.loc[i, \"Neighborhood\"]\n",
    "    if(neigh not in allEduLevels):\n",
    "        allEduLevels[neigh] = totalEdu / totalVal\n",
    "\n",
    "#allEduLevels"
   ]
  },
  {
   "cell_type": "code",
   "execution_count": 10,
   "metadata": {},
   "outputs": [
    {
     "data": {
      "text/plain": [
       "'\\nnSurveyPops = []\\nfor i in range(len(allEduLevels)):\\n    nPop = eduA.loc[i, \"Estimate; Total:\"]\\n    nSurveyPops.append(nPop)\\n#nSurveyPops\\n'"
      ]
     },
     "execution_count": 10,
     "metadata": {},
     "output_type": "execute_result"
    }
   ],
   "source": [
    "'''\n",
    "nSurveyPops = []\n",
    "for i in range(len(allEduLevels)):\n",
    "    nPop = eduA.loc[i, \"Estimate; Total:\"]\n",
    "    nSurveyPops.append(nPop)\n",
    "#nSurveyPops\n",
    "'''"
   ]
  },
  {
   "cell_type": "code",
   "execution_count": 11,
   "metadata": {},
   "outputs": [
    {
     "data": {
      "text/plain": [
       "'\\nfor key, value in allEduLevels.items():\\n    for i in range(len(allEduLevels)):\\n        allEduLevels[key] = (value / nSurveyPops[i]) * 100\\nallEduLevels\\n'"
      ]
     },
     "execution_count": 11,
     "metadata": {},
     "output_type": "execute_result"
    }
   ],
   "source": [
    "'''\n",
    "for key, value in allEduLevels.items():\n",
    "    for i in range(len(allEduLevels)):\n",
    "        allEduLevels[key] = (value / nSurveyPops[i]) * 100\n",
    "allEduLevels\n",
    "'''"
   ]
  },
  {
   "cell_type": "code",
   "execution_count": 12,
   "metadata": {},
   "outputs": [
    {
     "data": {
      "text/plain": [
       "{'Central Northside': 0.8506111362607515,\n",
       " 'Lincoln Place': 0.8523464326592903,\n",
       " 'Mount Oliver Borough': 0.7085137085137085,\n",
       " 'New Homestead': 0.8847795163584637,\n",
       " 'North Oakland': 0.9298245614035088,\n",
       " 'Regent Square': 0.9874686716791979,\n",
       " 'Squirrel Hill North': 0.9797030633339597,\n",
       " 'Squirrel Hill South': 0.9524178950090509,\n",
       " 'Stanton Heights': 0.90607424071991,\n",
       " 'Swisshelm Park': 0.873405299313052}"
      ]
     },
     "execution_count": 12,
     "metadata": {},
     "output_type": "execute_result"
    }
   ],
   "source": [
    "# create dict of select neighborhoods :  education level\n",
    "\n",
    "selectEduLevels = {}\n",
    "\n",
    "for key in ncUpdated.keys():\n",
    "    if(key not in selectEduLevels):\n",
    "        selectEduLevels[key] = allEduLevels[key]\n",
    "\n",
    "selectEduLevels"
   ]
  },
  {
   "cell_type": "code",
   "execution_count": 18,
   "metadata": {},
   "outputs": [
    {
     "data": {
      "text/plain": [
       "{'Central Northside': 92.13290812700714,\n",
       " 'Lincoln Place': 92.2196729469341,\n",
       " 'Mount Oliver Borough': 85.028036739655,\n",
       " 'New Homestead': 93.84132713189275,\n",
       " 'North Oakland': 96.09357938414502,\n",
       " 'Regent Square': 98.97578489792946,\n",
       " 'Squirrel Hill North': 98.58750448066755,\n",
       " 'Squirrel Hill South': 97.22324606442211,\n",
       " 'Stanton Heights': 94.90606334996508,\n",
       " 'Swisshelm Park': 93.27261627962218}"
      ]
     },
     "execution_count": 18,
     "metadata": {},
     "output_type": "execute_result"
    }
   ],
   "source": [
    "# \n",
    "\n",
    "fDict = {}\n",
    "\n",
    "for key, value in selectEduLevels.items():\n",
    "    for i in range(len(selectEduLevels)):\n",
    "        if(key not in fDict):\n",
    "            fDict[key] = ((arrestRatePercents[i] + value) / 2) * 100\n",
    "fDict"
   ]
  },
  {
   "cell_type": "code",
   "execution_count": 19,
   "metadata": {},
   "outputs": [
    {
     "data": {
      "text/plain": [
       "<matplotlib.axes._subplots.AxesSubplot at 0x7f340cc1e828>"
      ]
     },
     "execution_count": 19,
     "metadata": {},
     "output_type": "execute_result"
    },
    {
     "data": {
      "image/png": "[encoded data removed]",
      "text/plain": [
       "<Figure size 432x288 with 1 Axes>"
      ]
     },
     "metadata": {
      "needs_background": "light"
     },
     "output_type": "display_data"
    }
   ],
   "source": [
    "# select edu levels graph\n",
    "\n",
    "finalDict = pd.DataFrame.from_dict(fDict, orient = 'index', columns = ['Percent'])\n",
    "\n",
    "finalDict.plot(kind = 'bar', rot = 90)\n"
   ]
  },
  {
   "cell_type": "code",
   "execution_count": 10,
   "metadata": {},
   "outputs": [
    {
     "name": "stdout",
     "output_type": "stream",
     "text": [
      "The best neighborhood in Pittsburgh is: Regent Square\n"
     ]
    }
   ],
   "source": [
    "# find neighborhood with highest education rate\n",
    "\n",
    "maxVal = max(selectEduLevels.values())\n",
    "\n",
    "for key, value in selectEduLevels.items():\n",
    "    if(value == maxVal):\n",
    "        print(\"The best neighborhood in Pittsburgh is: \" + key)"
   ]
  },
  {
   "cell_type": "code",
   "execution_count": null,
   "metadata": {},
   "outputs": [],
   "source": []
  }
 ],
 "metadata": {
  "kernelspec": {
   "display_name": "Python 3.7",
   "language": "python",
   "name": "python3"
  },
  "language_info": {
   "codemirror_mode": {
    "name": "ipython",
    "version": 3
   },
   "file_extension": ".py",
   "mimetype": "text/x-python",
   "name": "python",
   "nbconvert_exporter": "python",
   "pygments_lexer": "ipython3",
   "version": "3.7.0"
  }
 },
 "nbformat": 4,
 "nbformat_minor": 4
}
